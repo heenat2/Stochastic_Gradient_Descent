{
 "cells": [
  {
   "cell_type": "code",
   "execution_count": 19,
   "metadata": {
    "collapsed": true
   },
   "outputs": [],
   "source": [
    "import numpy as np\n",
    "global a,b\n",
    "\n",
    "# Initialize the hyperplane parameters a and b to 0\n",
    "a = np.zeros((6,1))\n",
    "b = 0.0\n",
    "\n",
    "# Load data array\n",
    "x = np.load('nparray.npy')"
   ]
  },
  {
   "cell_type": "code",
   "execution_count": 20,
   "metadata": {
    "collapsed": true
   },
   "outputs": [],
   "source": [
    "def gamma_i(x_i,a_vec,b_sca):\n",
    "    '''Function accepts a feature vector x_i, a and b and returns the value of a linear equation used for class prediction'''\n",
    "    return np.dot(np.transpose(a_vec),x_i) + b_sca"
   ]
  },
  {
   "cell_type": "code",
   "execution_count": 24,
   "metadata": {},
   "outputs": [
    {
     "name": "stdout",
     "output_type": "stream",
     "text": [
      "lambda is 1e-05\n",
      "average accuracy =  0.809658546571\n",
      "lambda is 0.0001\n",
      "average accuracy =  0.809668781986\n",
      "lambda is 0.001\n",
      "average accuracy =  0.809296622313\n",
      "lambda is 0.01\n",
      "average accuracy =  0.806402865916\n",
      "lambda is 0.1\n",
      "average accuracy =  0.787308085977\n",
      "lambda is 1\n",
      "average accuracy =  0.76543828045\n",
      "done\n"
     ]
    }
   ],
   "source": [
    "'''This code snippet plots the accuracy values of a SVM and magnitude of coefficient vector 'a' (of linear classifier) against a \n",
    "set of values for the regularization constant lambda. The SVM is trained using stochastic gradient descent that optimizes a \n",
    "hinge loss function. The training proceeds in 50 epochs of 300 steps each. A 10% validation set is used to calculate accuracies\n",
    "and a 80% train set is used for training. The remaining 10% test set is not used in this exercise.'''\n",
    "np.random.shuffle(x)\n",
    "part_index = int(.8 * x.shape[0])\n",
    "train = x[:part_index,:] # 80% data for training\n",
    "testnvalidation = x[part_index:,:]\n",
    "part_index = int(.5 * testnvalidation.shape[0])\n",
    "test = testnvalidation[:part_index,:] # 10% data for test\n",
    "validate = testnvalidation[part_index:,:] # 10% data for validation \n",
    "validate_x = validate[:,0:6]\n",
    "validate_y = validate[:,6]\n",
    "\n",
    "# m and n are used to regulate the step size as epochs change and the training progresses\n",
    "# k = number of steps\n",
    "m,n,k = 1,50,300\n",
    "batch_size = 1\n",
    "acc_per_lambda_matrix = []\n",
    "a_mag_per_lambda_matrix = []\n",
    "\n",
    "\n",
    "for lambda_ in [1e-5,1e-4,1e-3,1e-2,1e-1,1]:\n",
    "    print('lambda is',lambda_)\n",
    "    a = np.zeros((6,1))\n",
    "    b = 0.0\n",
    "    # stores SVM accuracy values for the current lambda value \n",
    "    accuracy_list = []\n",
    "    #stores magnitude of a for the current lambda value\n",
    "    a_mag_list = []\n",
    "    \n",
    "    for epoch in range(1,51):\n",
    "        # reduce step size as a function of epoch number and constants m and n\n",
    "        eta = m/(0.01*epoch + n)\n",
    "    \n",
    "        for step in range(0,k):\n",
    "            # for each step, randomly select a record from the training data\n",
    "            train_k = train[np.random.choice(train.shape[0], batch_size, replace=True)]\n",
    "            # separate out the train vector into features and class\n",
    "            x_k, y_k = train_k[:,0:6].reshape(6,1), train_k[:,6]\n",
    "            # compute revised values of a and b\n",
    "            if y_k * gamma_i(x_k,a,b) >= 1:\n",
    "                a_new = a - eta*lambda_*a\n",
    "                a = a_new\n",
    "            else:\n",
    "                a_new = a - eta*(lambda_*a - y_k*x_k)\n",
    "                b_new = b + eta*y_k\n",
    "                a, b = a_new, b_new\n",
    "            # calculate and store the accuracy and vector a magnitude every 30 steps\n",
    "            if step % 30==0:\n",
    "                predicted_y = np.array([gamma_i(x,a,b) for x in validate_x])\n",
    "                accuracy_arr = (predicted_y * validate_y.reshape(validate_y.shape[0],1)) > 0\n",
    "                accuracy_list.append(np.sum(accuracy_arr) / accuracy_arr.size)\n",
    "                a_mag_list.append(np.sqrt(np.transpose(a).dot(a))[0][0])\n",
    "    acc_per_lambda_matrix.append(accuracy_list)\n",
    "    print('average accuracy = ',sum(accuracy_list)/len(accuracy_list))\n",
    "    a_mag_per_lambda_matrix.append(a_mag_list)\n",
    "print('done')"
   ]
  },
  {
   "cell_type": "code",
   "execution_count": 17,
   "metadata": {},
   "outputs": [],
   "source": [
    "# create a plot of accuracy on validation set every 30 steps for each value of lambda\n",
    "import matplotlib.pyplot as plt\n",
    "import pandas as pd\n",
    "df=pd.DataFrame(acc_per_lambda_matrix)\n",
    "df=df.transpose()\n",
    "f=plt.figure()\n",
    "df.plot(figsize=(11,6))\n",
    "plt.ylim(0.7, 0.9)\n",
    "plt.xlabel('Data Points')\n",
    "plt.ylabel('Accuracy')\n",
    "plt.legend(['0.00001','0.0001','0.001','0.01','0.1','1'])\n",
    "plt.savefig('plot1.png')"
   ]
  },
  {
   "cell_type": "code",
   "execution_count": 18,
   "metadata": {},
   "outputs": [],
   "source": [
    "# create a plot of magnitude of coefficients of 'a' on validation set every 30 steps for each value of lambda\n",
    "import matplotlib.pyplot as plt\n",
    "import pandas as pd\n",
    "mag_df = pd.DataFrame(a_mag_per_lambda_matrix)\n",
    "mag_df=mag_df.transpose()\n",
    "plt.figure()\n",
    "mag_df.plot(figsize=(11,6))\n",
    "plt.xlabel('Data Points')\n",
    "plt.ylabel('Magnitude of Coefficient Vector')\n",
    "plt.legend(['0.00001','0.0001','0.001','0.01','0.1','1'])\n",
    "plt.savefig('plot2.png')"
   ]
  },
  {
   "cell_type": "code",
   "execution_count": null,
   "metadata": {
    "collapsed": true
   },
   "outputs": [],
   "source": []
  }
 ],
 "metadata": {
  "kernelspec": {
   "display_name": "Python 3",
   "language": "python",
   "name": "python3"
  },
  "language_info": {
   "codemirror_mode": {
    "name": "ipython",
    "version": 3
   },
   "file_extension": ".py",
   "mimetype": "text/x-python",
   "name": "python",
   "nbconvert_exporter": "python",
   "pygments_lexer": "ipython3",
   "version": "3.6.3"
  }
 },
 "nbformat": 4,
 "nbformat_minor": 2
}

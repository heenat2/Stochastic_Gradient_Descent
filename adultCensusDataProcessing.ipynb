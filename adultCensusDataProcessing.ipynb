{
 "cells": [
  {
   "cell_type": "code",
   "execution_count": 2,
   "metadata": {},
   "outputs": [
    {
     "data": {
      "text/plain": [
       "'C:\\\\Users\\\\heena\\\\ML\\\\Homework2'"
      ]
     },
     "execution_count": 2,
     "metadata": {},
     "output_type": "execute_result"
    }
   ],
   "source": [
    "#check the current working directory\n",
    "pwd"
   ]
  },
  {
   "cell_type": "code",
   "execution_count": 1,
   "metadata": {
    "scrolled": true
   },
   "outputs": [
    {
     "name": "stdout",
     "output_type": "stream",
     "text": [
      "48842\n"
     ]
    }
   ],
   "source": [
    "import csv\n",
    "\n",
    "#adult census data file sourced from https://archive.ics.uci.edu/ml/datasets/Adult\n",
    "with open('adult.data','r') as f:\n",
    "    reader = csv.reader(f)\n",
    "    datalist = list(reader)\n",
    "    del datalist[-1]\n",
    "    \n",
    "#test file for adult census data sourced from https://archive.ics.uci.edu/ml/datasets/Adult\n",
    "with open('adult.test','r') as f:\n",
    "    reader = csv.reader(f)\n",
    "    testlist = list(reader)\n",
    "    del testlist[-1], testlist[0]\n",
    "    \n",
    "#merge the two data and test files\n",
    "datalist.extend(testlist)\n",
    "print(len(datalist))\n",
    "\n",
    "#select only thr continuous attributes and class column from the merged file\n",
    "newlist = list(map(lambda x:[x[0].strip()]+[x[2].strip()]+[x[4].strip()]+[x[10].strip()] + [x[11].strip()] + [x[12].strip()]+[x[14].strip('. ')], datalist))"
   ]
  },
  {
   "cell_type": "code",
   "execution_count": 3,
   "metadata": {},
   "outputs": [
    {
     "name": "stdout",
     "output_type": "stream",
     "text": [
      "done\n"
     ]
    }
   ],
   "source": [
    "# check for presence of missing values\n",
    "for row in newlist:\n",
    "    for val in row:\n",
    "        if val == '?':\n",
    "            print(\"row={0}\",row)\n",
    "            print(\"val={0}\",val) \n",
    "print('done')"
   ]
  },
  {
   "cell_type": "code",
   "execution_count": 5,
   "metadata": {},
   "outputs": [
    {
     "name": "stdout",
     "output_type": "stream",
     "text": [
      "done\n"
     ]
    }
   ],
   "source": [
    "#replace class '<=50K' by -1 and the rest of the classes by 1.\n",
    "intlist = []\n",
    "for i in range(0,len(newlist)):\n",
    "    if newlist[i][-1] == \"<=50K\":\n",
    "        newlist[i][-1] = '-1'\n",
    "    else:\n",
    "        newlist[i][-1] = '1'\n",
    "    intlist.append([int(val) for val in newlist[i]])\n",
    "print('done')"
   ]
  },
  {
   "cell_type": "code",
   "execution_count": 6,
   "metadata": {},
   "outputs": [
    {
     "name": "stderr",
     "output_type": "stream",
     "text": [
      "C:\\Users\\heena\\AppData\\Local\\Continuum\\anaconda3\\lib\\site-packages\\sklearn\\utils\\validation.py:475: DataConversionWarning: Data with input dtype int32 was converted to float64 by the scale function.\n",
      "  warnings.warn(msg, DataConversionWarning)\n"
     ]
    }
   ],
   "source": [
    "#uses library sklearn to scale the data and writes and saves the result to a numpy array\n",
    "import numpy as np\n",
    "from sklearn import preprocessing\n",
    "nparr = np.array(intlist)\n",
    "X = nparr[:,0:6] # X = columns containing features\n",
    "Y = nparr[:,-1] # Y = column containing class\n",
    "# subtracts mean (to center data) and divides by sd (for unit variation)\n",
    "X_scaled = preprocessing.scale(X,axis=0,with_mean=True, with_std=True)\n",
    "data_scaled = np.append(X_scaled, [[y,] for y in Y], axis=1)\n",
    "np.save('nparray',data_scaled)"
   ]
  }
 ],
 "metadata": {
  "kernelspec": {
   "display_name": "Python 3",
   "language": "python",
   "name": "python3"
  },
  "language_info": {
   "codemirror_mode": {
    "name": "ipython",
    "version": 3
   },
   "file_extension": ".py",
   "mimetype": "text/x-python",
   "name": "python",
   "nbconvert_exporter": "python",
   "pygments_lexer": "ipython3",
   "version": "3.6.3"
  }
 },
 "nbformat": 4,
 "nbformat_minor": 2
}
